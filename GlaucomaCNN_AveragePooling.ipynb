{
  "nbformat": 4,
  "nbformat_minor": 0,
  "metadata": {
    "colab": {
      "name": "GlaucomaCNN_AveragePooling.ipynb",
      "provenance": [],
      "collapsed_sections": [],
      "mount_file_id": "16jTGh2wQencL6oSfSnDkJ3UfeZhljr90",
      "authorship_tag": "ABX9TyOZmiSngl29Sy3m28VcR7oC",
      "include_colab_link": true
    },
    "kernelspec": {
      "name": "python3",
      "display_name": "Python 3"
    },
    "language_info": {
      "name": "python"
    }
  },
  "cells": [
    {
      "cell_type": "markdown",
      "metadata": {
        "id": "view-in-github",
        "colab_type": "text"
      },
      "source": [
        "<a href=\"https://colab.research.google.com/github/shadhin39/GlaucomaDetectionUsingCNN-MaxPooling-and-AveragePooling/blob/master/GlaucomaCNN_AveragePooling.ipynb\" target=\"_parent\"><img src=\"https://colab.research.google.com/assets/colab-badge.svg\" alt=\"Open In Colab\"/></a>"
      ]
    },
    {
      "cell_type": "code",
      "metadata": {
        "colab": {
          "base_uri": "https://localhost:8080/"
        },
        "id": "dt2Ko0BpZ8OX",
        "outputId": "ce960747-7abc-470a-d913-205d30a0c351"
      },
      "source": [
        "import os\n",
        "print(os.listdir((\"/content/drive/My Drive/dataset\")))"
      ],
      "execution_count": 1,
      "outputs": [
        {
          "output_type": "stream",
          "text": [
            "['train', 'test', 'ConfusionMatrixDemo.png', 'ConfusionMatrixMaxPoolingMain.png', 'diagMax.svg', 'modelSimple.svg', 'LossMaxPooling.png', 'AccuracyMaxPooling.png', 'GmodelCNNMaxPooling.h5', 'ConfusionMatrixMaxPooling.png', 'MSEMaxPooling.png', 'AUCMaxPooling.png', 'AccuracyAveragePooling.png', 'GmodelCNNAveragePooling.h5', 'CNNAveragePooling.png', 'MSEAveragePooling.png', 'AUCAveragePooling.png', 'LossAveragePooling.png', 'COVID19LossMaxPooling.png', 'GmodelCOVID19CNNMaxPooling.h5', 'COVID19AccuracyMaxPooling.png', 'ConfusionMatrixAveragePooling.png', 'CNNMaxPooling.png', 'Covid_CNN_MaxPooling.png', 'DR_CNN.png']\n"
          ],
          "name": "stdout"
        }
      ]
    },
    {
      "cell_type": "code",
      "metadata": {
        "id": "AEdYTuwCaQjh"
      },
      "source": [
        "from keras.models import Sequential\n",
        "from keras.layers import Conv2D\n",
        "from keras.layers import AveragePooling2D\n",
        "from keras.layers import Flatten\n",
        "from keras.layers import Dense\n",
        "# Initialising the CNN\n",
        "classifier = Sequential()\n",
        "# Step 1 - Convolution\n",
        "classifier.add(Conv2D(32, (3, 3), input_shape = (256,256, 3), activation = 'relu'))\n",
        "# Step 2 - Pooling\n",
        "classifier.add(AveragePooling2D(pool_size = (2, 2)))\n",
        "# Adding a second convolutional layer\n",
        "classifier.add(Conv2D(32, (3, 3), activation = 'relu'))\n",
        "classifier.add(AveragePooling2D(pool_size = (2, 2)))\n",
        "# Step 3 - Flattening\n",
        "classifier.add(Flatten())\n",
        "# Step 4 - Full connection\n",
        "classifier.add(Dense(units = 128, activation = 'relu'))\n",
        "classifier.add(Dense(units = 1, activation = 'sigmoid'))\n",
        "# Compiling the CNN\n",
        "classifier.compile(optimizer = 'adam', loss = 'binary_crossentropy', metrics = ['accuracy'])"
      ],
      "execution_count": 2,
      "outputs": []
    },
    {
      "cell_type": "code",
      "metadata": {
        "colab": {
          "base_uri": "https://localhost:8080/"
        },
        "id": "4x3gvROgazfe",
        "outputId": "21988fb7-eb58-4520-8b59-40a1c987f716"
      },
      "source": [
        "from keras.preprocessing.image import ImageDataGenerator\n",
        "train_datagen = ImageDataGenerator(rescale = 1./255,\n",
        "shear_range = 0.2,\n",
        "zoom_range = 0.2,\n",
        "horizontal_flip = True)\n",
        "# print(train_datagen)\n",
        "test_datagen = ImageDataGenerator(rescale = 1./255)\n",
        "training_set = train_datagen.flow_from_directory('/content/drive/My Drive/dataset/train',\n",
        "target_size = (256,256),\n",
        "batch_size = 32,\n",
        "class_mode = 'binary')\n",
        "# print(test_datagen)\n",
        "test_set = test_datagen.flow_from_directory('/content/drive/My Drive/dataset/test',\n",
        "target_size = (256,256),\n",
        "batch_size = 32,\n",
        "class_mode = 'binary')"
      ],
      "execution_count": 3,
      "outputs": [
        {
          "output_type": "stream",
          "text": [
            "Found 455 images belonging to 2 classes.\n",
            "Found 64 images belonging to 2 classes.\n"
          ],
          "name": "stdout"
        }
      ]
    },
    {
      "cell_type": "code",
      "metadata": {
        "colab": {
          "base_uri": "https://localhost:8080/"
        },
        "id": "g5avxmDOa9JI",
        "outputId": "a02d015c-7d61-4836-e503-a3c672241dee"
      },
      "source": [
        "history = classifier.fit(training_set, validation_data = test_set, epochs=30, batch_size=32, verbose=2)"
      ],
      "execution_count": 4,
      "outputs": [
        {
          "output_type": "stream",
          "text": [
            "Epoch 1/30\n",
            "15/15 - 41s - loss: 2.3149 - accuracy: 0.5473 - val_loss: 0.6887 - val_accuracy: 0.5156\n",
            "Epoch 2/30\n",
            "15/15 - 40s - loss: 0.6211 - accuracy: 0.6857 - val_loss: 0.6392 - val_accuracy: 0.6406\n",
            "Epoch 3/30\n",
            "15/15 - 40s - loss: 0.5152 - accuracy: 0.7209 - val_loss: 0.6475 - val_accuracy: 0.6406\n",
            "Epoch 4/30\n",
            "15/15 - 41s - loss: 0.4725 - accuracy: 0.7802 - val_loss: 0.5908 - val_accuracy: 0.7031\n",
            "Epoch 5/30\n",
            "15/15 - 41s - loss: 0.4627 - accuracy: 0.7538 - val_loss: 0.5336 - val_accuracy: 0.7500\n",
            "Epoch 6/30\n",
            "15/15 - 41s - loss: 0.4657 - accuracy: 0.7802 - val_loss: 0.5512 - val_accuracy: 0.7344\n",
            "Epoch 7/30\n",
            "15/15 - 40s - loss: 0.4789 - accuracy: 0.7670 - val_loss: 0.5254 - val_accuracy: 0.6875\n",
            "Epoch 8/30\n",
            "15/15 - 40s - loss: 0.4540 - accuracy: 0.7780 - val_loss: 0.5025 - val_accuracy: 0.7031\n",
            "Epoch 9/30\n",
            "15/15 - 40s - loss: 0.4090 - accuracy: 0.8242 - val_loss: 0.4221 - val_accuracy: 0.8125\n",
            "Epoch 10/30\n",
            "15/15 - 41s - loss: 0.3830 - accuracy: 0.8374 - val_loss: 0.3869 - val_accuracy: 0.8281\n",
            "Epoch 11/30\n",
            "15/15 - 40s - loss: 0.4357 - accuracy: 0.7956 - val_loss: 0.4380 - val_accuracy: 0.8125\n",
            "Epoch 12/30\n",
            "15/15 - 42s - loss: 0.4606 - accuracy: 0.7582 - val_loss: 0.4229 - val_accuracy: 0.8125\n",
            "Epoch 13/30\n",
            "15/15 - 41s - loss: 0.3856 - accuracy: 0.8308 - val_loss: 0.4217 - val_accuracy: 0.7344\n",
            "Epoch 14/30\n",
            "15/15 - 40s - loss: 0.3877 - accuracy: 0.8440 - val_loss: 0.4468 - val_accuracy: 0.7188\n",
            "Epoch 15/30\n",
            "15/15 - 40s - loss: 0.3812 - accuracy: 0.8264 - val_loss: 0.3989 - val_accuracy: 0.7500\n",
            "Epoch 16/30\n",
            "15/15 - 40s - loss: 0.3622 - accuracy: 0.8418 - val_loss: 0.3880 - val_accuracy: 0.7500\n",
            "Epoch 17/30\n",
            "15/15 - 41s - loss: 0.3699 - accuracy: 0.8571 - val_loss: 0.3686 - val_accuracy: 0.8281\n",
            "Epoch 18/30\n",
            "15/15 - 40s - loss: 0.3842 - accuracy: 0.8330 - val_loss: 0.3119 - val_accuracy: 0.8750\n",
            "Epoch 19/30\n",
            "15/15 - 40s - loss: 0.3913 - accuracy: 0.8462 - val_loss: 0.3079 - val_accuracy: 0.8594\n",
            "Epoch 20/30\n",
            "15/15 - 40s - loss: 0.4067 - accuracy: 0.8198 - val_loss: 0.3862 - val_accuracy: 0.8594\n",
            "Epoch 21/30\n",
            "15/15 - 39s - loss: 0.3765 - accuracy: 0.8396 - val_loss: 0.2789 - val_accuracy: 0.8750\n",
            "Epoch 22/30\n",
            "15/15 - 40s - loss: 0.3895 - accuracy: 0.8374 - val_loss: 0.3124 - val_accuracy: 0.9062\n",
            "Epoch 23/30\n",
            "15/15 - 39s - loss: 0.3406 - accuracy: 0.8703 - val_loss: 0.2404 - val_accuracy: 0.9219\n",
            "Epoch 24/30\n",
            "15/15 - 39s - loss: 0.3756 - accuracy: 0.8462 - val_loss: 0.2761 - val_accuracy: 0.8906\n",
            "Epoch 25/30\n",
            "15/15 - 40s - loss: 0.3364 - accuracy: 0.8549 - val_loss: 0.2687 - val_accuracy: 0.9219\n",
            "Epoch 26/30\n",
            "15/15 - 39s - loss: 0.3249 - accuracy: 0.8681 - val_loss: 0.2158 - val_accuracy: 0.9219\n",
            "Epoch 27/30\n",
            "15/15 - 40s - loss: 0.3221 - accuracy: 0.8747 - val_loss: 0.2762 - val_accuracy: 0.8750\n",
            "Epoch 28/30\n",
            "15/15 - 40s - loss: 0.3232 - accuracy: 0.8725 - val_loss: 0.2492 - val_accuracy: 0.8594\n",
            "Epoch 29/30\n",
            "15/15 - 41s - loss: 0.3141 - accuracy: 0.8549 - val_loss: 0.2405 - val_accuracy: 0.9375\n",
            "Epoch 30/30\n",
            "15/15 - 40s - loss: 0.3260 - accuracy: 0.8703 - val_loss: 0.2061 - val_accuracy: 0.9375\n"
          ],
          "name": "stdout"
        }
      ]
    },
    {
      "cell_type": "code",
      "metadata": {
        "colab": {
          "base_uri": "https://localhost:8080/"
        },
        "id": "HEEgk1kxrvuz",
        "outputId": "1d280f1a-85de-4b1c-9c8d-433d41260a96"
      },
      "source": [
        "# evaluate the model\n",
        "_, train_acc = classifier.evaluate(training_set, verbose=0)\n",
        "_, test_acc = classifier.evaluate(test_set, verbose=0)\n",
        "print(\" Train_accuracy: \", train_acc)\n",
        "print(\" Test_accuracy: \", test_acc)"
      ],
      "execution_count": 5,
      "outputs": [
        {
          "output_type": "stream",
          "text": [
            " Train_accuracy:  0.8857142925262451\n",
            " Test_accuracy:  0.9375\n"
          ],
          "name": "stdout"
        }
      ]
    },
    {
      "cell_type": "code",
      "metadata": {
        "colab": {
          "base_uri": "https://localhost:8080/"
        },
        "id": "EOYmHsmrsDfB",
        "outputId": "e4b85fa2-de10-4be7-ed17-d7d02ed4bdb9"
      },
      "source": [
        "### Performance evaluation\n",
        "#########################\n",
        "score = classifier.evaluate(test_set)\n",
        "print(\" Total: \", len(test_set.filenames))\n",
        "print(\"Loss: \", score[0], \"Accuracy: \", score[1])"
      ],
      "execution_count": 6,
      "outputs": [
        {
          "output_type": "stream",
          "text": [
            "2/2 [==============================] - 2s 631ms/step - loss: 0.2061 - accuracy: 0.9375\n",
            " Total:  64\n",
            "Loss:  0.20611914992332458 Accuracy:  0.9375\n"
          ],
          "name": "stdout"
        }
      ]
    },
    {
      "cell_type": "code",
      "metadata": {
        "colab": {
          "base_uri": "https://localhost:8080/",
          "height": 177
        },
        "id": "RtEG9xlcsIEk",
        "outputId": "6374fc2e-f159-45ec-eed6-e937e0235bc4"
      },
      "source": [
        "# plot loss during training\n",
        "import matplotlib.pyplot as pyplot\n",
        "pyplot.subplot(211)\n",
        "pyplot.title('Model Loss')\n",
        "pyplot.ylabel('Loss')\n",
        "pyplot.xlabel('Epoch')\n",
        "pyplot.plot(history.history['loss'], label='train')\n",
        "pyplot.plot(history.history['val_loss'], label='test')\n",
        "pyplot.legend()\n",
        "pyplot.savefig('/content/drive/My Drive/dataset/LossAveragePooling.png')\n",
        "pyplot.show()"
      ],
      "execution_count": 7,
      "outputs": [
        {
          "output_type": "display_data",
          "data": {
            "image/png": "[encoded data removed]",
            "text/plain": [
              "<Figure size 432x288 with 1 Axes>"
            ]
          },
          "metadata": {
            "tags": [],
            "needs_background": "light"
          }
        }
      ]
    },
    {
      "cell_type": "code",
      "metadata": {
        "colab": {
          "base_uri": "https://localhost:8080/",
          "height": 177
        },
        "id": "RznR_sEisdqn",
        "outputId": "35dcfd56-451d-4f5e-aaf7-584c3c1a7558"
      },
      "source": [
        "# plot accuracy during training\n",
        "pyplot.subplot(212)\n",
        "pyplot.title('Model Accuracy')\n",
        "pyplot.ylabel('Accuracy')\n",
        "pyplot.xlabel('Epoch')\n",
        "pyplot.plot(history.history['accuracy'], label='train')\n",
        "pyplot.plot(history.history['val_accuracy'], label='test')\n",
        "pyplot.legend()\n",
        "pyplot.savefig('/content/drive/My Drive/dataset/AccuracyAveragePooling.png')\n",
        "pyplot.show()"
      ],
      "execution_count": 8,
      "outputs": [
        {
          "output_type": "display_data",
          "data": {
            "image/png": "[encoded data removed]",
            "text/plain": [
              "<Figure size 432x288 with 1 Axes>"
            ]
          },
          "metadata": {
            "tags": [],
            "needs_background": "light"
          }
        }
      ]
    },
    {
      "cell_type": "code",
      "metadata": {
        "id": "Kn11Hzk4sh_Y"
      },
      "source": [
        "classifier.save('/content/drive/My Drive/dataset/GmodelCNNAveragePooling.h5')"
      ],
      "execution_count": 9,
      "outputs": []
    },
    {
      "cell_type": "code",
      "metadata": {
        "colab": {
          "base_uri": "https://localhost:8080/"
        },
        "id": "WDIzBDfXsmsi",
        "outputId": "029bec36-d86f-4a89-e290-2f483c1e8f52"
      },
      "source": [
        "import os\n",
        "from keras.models import load_model\n",
        "from PIL import Image\n",
        "from keras.preprocessing import image\n",
        "import numpy as np\n",
        "import cv2\n",
        "target_size = (256,256)\n",
        "model=load_model('/content/drive/My Drive/dataset/GmodelCNNAveragePooling.h5')\n",
        "print(\"model loaded\")"
      ],
      "execution_count": 10,
      "outputs": [
        {
          "output_type": "stream",
          "text": [
            "model loaded\n"
          ],
          "name": "stdout"
        }
      ]
    },
    {
      "cell_type": "code",
      "metadata": {
        "colab": {
          "base_uri": "https://localhost:8080/"
        },
        "id": "qLKili2Ps1AZ",
        "outputId": "f24dc4a6-faf3-42c2-bdbc-f4f7b723f366"
      },
      "source": [
        "import numpy as np\n",
        "from keras.preprocessing import image\n",
        "test_image = image.load_img('/content/drive/My Drive/dataset/test/class1/Im263.jpg', target_size = (256,256))\n",
        "test_image = image.img_to_array(test_image)\n",
        "test_image = np.expand_dims(test_image, axis = 0)\n",
        "result = model.predict(test_image)\n",
        "training_set.class_indices\n",
        "if result[0][0] == 1:\n",
        " print(\"Glaucoma\")\n",
        "else:\n",
        " print(\"Not Glaucoma\")"
      ],
      "execution_count": 11,
      "outputs": [
        {
          "output_type": "stream",
          "text": [
            "Glaucoma\n"
          ],
          "name": "stdout"
        }
      ]
    },
    {
      "cell_type": "code",
      "metadata": {
        "colab": {
          "base_uri": "https://localhost:8080/"
        },
        "id": "Plhris7js3z0",
        "outputId": "41ef44d8-ff76-4970-c4a4-49ca15882641"
      },
      "source": [
        "import numpy as np\n",
        "from keras.preprocessing import image\n",
        "test_image = image.load_img('/content/drive/My Drive/dataset/test/class0/Im181.jpg', target_size = (256,256))\n",
        "test_image = image.img_to_array(test_image)\n",
        "test_image = np.expand_dims(test_image, axis = 0)\n",
        "result = model.predict(test_image)\n",
        "training_set.class_indices\n",
        "if result[0][0] == 1:\n",
        " print(\"Glaucoma\")\n",
        "else:\n",
        " print(\"Not Glaucoma\")"
      ],
      "execution_count": 12,
      "outputs": [
        {
          "output_type": "stream",
          "text": [
            "Not Glaucoma\n"
          ],
          "name": "stdout"
        }
      ]
    },
    {
      "cell_type": "code",
      "metadata": {
        "id": "n8j14pygS8wa"
      },
      "source": [
        "from numpy import array\n",
        "from keras.models import Sequential\n",
        "from keras.layers import Dense\n",
        "from matplotlib import pyplot\n",
        "classifier.compile(\n",
        "    optimizer='adam',\n",
        "    loss='mean_squared_error',\n",
        "    metrics=[\n",
        "        'MeanSquaredError',\n",
        "        'AUC',\n",
        "    ]\n",
        ")"
      ],
      "execution_count": 13,
      "outputs": []
    },
    {
      "cell_type": "code",
      "metadata": {
        "id": "hmV70GLuZz5I",
        "colab": {
          "base_uri": "https://localhost:8080/"
        },
        "outputId": "4ed96867-9026-4768-f6e8-22590cc0e595"
      },
      "source": [
        "history = classifier.fit(training_set, validation_data = test_set, epochs=10, batch_size=32, verbose=2)"
      ],
      "execution_count": 14,
      "outputs": [
        {
          "output_type": "stream",
          "text": [
            "Epoch 1/10\n",
            "15/15 - 43s - loss: 0.1059 - mean_squared_error: 0.1059 - auc: 0.9269 - val_loss: 0.0919 - val_mean_squared_error: 0.0919 - val_auc: 0.9707\n",
            "Epoch 2/10\n",
            "15/15 - 40s - loss: 0.1140 - mean_squared_error: 0.1140 - auc: 0.9210 - val_loss: 0.0730 - val_mean_squared_error: 0.0730 - val_auc: 0.9780\n",
            "Epoch 3/10\n",
            "15/15 - 41s - loss: 0.0873 - mean_squared_error: 0.0873 - auc: 0.9464 - val_loss: 0.0716 - val_mean_squared_error: 0.0716 - val_auc: 0.9785\n",
            "Epoch 4/10\n",
            "15/15 - 41s - loss: 0.0891 - mean_squared_error: 0.0891 - auc: 0.9480 - val_loss: 0.0604 - val_mean_squared_error: 0.0604 - val_auc: 0.9829\n",
            "Epoch 5/10\n",
            "15/15 - 40s - loss: 0.0900 - mean_squared_error: 0.0900 - auc: 0.9412 - val_loss: 0.0449 - val_mean_squared_error: 0.0449 - val_auc: 0.9854\n",
            "Epoch 6/10\n",
            "15/15 - 41s - loss: 0.0791 - mean_squared_error: 0.0791 - auc: 0.9554 - val_loss: 0.0408 - val_mean_squared_error: 0.0408 - val_auc: 0.9971\n",
            "Epoch 7/10\n",
            "15/15 - 41s - loss: 0.0773 - mean_squared_error: 0.0773 - auc: 0.9587 - val_loss: 0.0484 - val_mean_squared_error: 0.0484 - val_auc: 0.9863\n",
            "Epoch 8/10\n",
            "15/15 - 40s - loss: 0.0880 - mean_squared_error: 0.0880 - auc: 0.9466 - val_loss: 0.0339 - val_mean_squared_error: 0.0339 - val_auc: 0.9956\n",
            "Epoch 9/10\n",
            "15/15 - 41s - loss: 0.0790 - mean_squared_error: 0.0790 - auc: 0.9554 - val_loss: 0.0290 - val_mean_squared_error: 0.0290 - val_auc: 1.0000\n",
            "Epoch 10/10\n",
            "15/15 - 40s - loss: 0.0815 - mean_squared_error: 0.0815 - auc: 0.9558 - val_loss: 0.0448 - val_mean_squared_error: 0.0448 - val_auc: 0.9941\n"
          ],
          "name": "stdout"
        }
      ]
    },
    {
      "cell_type": "code",
      "metadata": {
        "id": "i_c_xe_EZ2sU",
        "colab": {
          "base_uri": "https://localhost:8080/",
          "height": 195
        },
        "outputId": "5f867381-2ee4-4c29-e8a7-d8eb7debf4ee"
      },
      "source": [
        "#mean-square error\n",
        "pyplot.subplot(212)\n",
        "pyplot.title('Model Mean-square Error')\n",
        "pyplot.ylabel('Mean-square Error')\n",
        "pyplot.xlabel('Epoch')\n",
        "pyplot.plot(history.history['mean_squared_error'])\n",
        "pyplot.savefig('/content/drive/My Drive/dataset/MSEAveragePooling.png')\n",
        "pyplot.legend()\n",
        "pyplot.show()"
      ],
      "execution_count": 15,
      "outputs": [
        {
          "output_type": "stream",
          "text": [
            "No handles with labels found to put in legend.\n"
          ],
          "name": "stderr"
        },
        {
          "output_type": "display_data",
          "data": {
            "image/png": "[encoded data removed]",
            "text/plain": [
              "<Figure size 432x288 with 1 Axes>"
            ]
          },
          "metadata": {
            "tags": [],
            "needs_background": "light"
          }
        }
      ]
    },
    {
      "cell_type": "code",
      "metadata": {
        "id": "csjjDGW0Z4nz",
        "colab": {
          "base_uri": "https://localhost:8080/",
          "height": 195
        },
        "outputId": "5a2dd25f-64be-4bef-b97a-97a01ab4e0fa"
      },
      "source": [
        "#auc value\n",
        "pyplot.subplot(212)\n",
        "pyplot.title('Model AUC')\n",
        "pyplot.ylabel('AUC')\n",
        "pyplot.xlabel('Epoch')\n",
        "pyplot.plot(history.history['auc'])\n",
        "pyplot.savefig('/content/drive/My Drive/dataset/AUCAveragePooling.png')\n",
        "pyplot.legend()\n",
        "pyplot.show()"
      ],
      "execution_count": 16,
      "outputs": [
        {
          "output_type": "stream",
          "text": [
            "No handles with labels found to put in legend.\n"
          ],
          "name": "stderr"
        },
        {
          "output_type": "display_data",
          "data": {
            "image/png": "[encoded data removed]",
            "text/plain": [
              "<Figure size 432x288 with 1 Axes>"
            ]
          },
          "metadata": {
            "tags": [],
            "needs_background": "light"
          }
        }
      ]
    },
    {
      "cell_type": "code",
      "metadata": {
        "id": "cxM7bPc_aGml"
      },
      "source": [
        "### Performance evaluation of MSE and AUC\n",
        "#########################\n",
        "score = classifier.evaluate(test_set)"
      ],
      "execution_count": null,
      "outputs": []
    },
    {
      "cell_type": "code",
      "metadata": {
        "id": "BeACwWpWZ6Sf",
        "colab": {
          "base_uri": "https://localhost:8080/"
        },
        "outputId": "b8803219-e8f4-453c-f74e-a301b627b0d7"
      },
      "source": [
        "#confusion matrix values\n",
        "classifier.compile(optimizer='sgd',\n",
        "              loss='mse',\n",
        "              metrics=['TruePositives','TrueNegatives','FalsePositives','FalseNegatives'])\n",
        "history = classifier.fit(training_set, validation_data = test_set, epochs=10, batch_size=32, verbose=2)"
      ],
      "execution_count": 17,
      "outputs": [
        {
          "output_type": "stream",
          "text": [
            "Epoch 1/10\n",
            "15/15 - 41s - loss: 0.0773 - true_positives: 169.0000 - true_negatives: 241.0000 - false_positives: 14.0000 - false_negatives: 31.0000 - val_loss: 0.0344 - val_true_positives: 31.0000 - val_true_negatives: 31.0000 - val_false_positives: 1.0000 - val_false_negatives: 1.0000\n",
            "Epoch 2/10\n",
            "15/15 - 38s - loss: 0.0648 - true_positives: 175.0000 - true_negatives: 240.0000 - false_positives: 15.0000 - false_negatives: 25.0000 - val_loss: 0.0340 - val_true_positives: 30.0000 - val_true_negatives: 31.0000 - val_false_positives: 1.0000 - val_false_negatives: 2.0000\n",
            "Epoch 3/10\n",
            "15/15 - 38s - loss: 0.0606 - true_positives: 180.0000 - true_negatives: 245.0000 - false_positives: 10.0000 - false_negatives: 20.0000 - val_loss: 0.0283 - val_true_positives: 31.0000 - val_true_negatives: 31.0000 - val_false_positives: 1.0000 - val_false_negatives: 1.0000\n",
            "Epoch 4/10\n",
            "15/15 - 38s - loss: 0.0637 - true_positives: 176.0000 - true_negatives: 242.0000 - false_positives: 13.0000 - false_negatives: 24.0000 - val_loss: 0.0338 - val_true_positives: 31.0000 - val_true_negatives: 31.0000 - val_false_positives: 1.0000 - val_false_negatives: 1.0000\n",
            "Epoch 5/10\n",
            "15/15 - 38s - loss: 0.0621 - true_positives: 179.0000 - true_negatives: 241.0000 - false_positives: 14.0000 - false_negatives: 21.0000 - val_loss: 0.0270 - val_true_positives: 31.0000 - val_true_negatives: 31.0000 - val_false_positives: 1.0000 - val_false_negatives: 1.0000\n",
            "Epoch 6/10\n",
            "15/15 - 38s - loss: 0.0749 - true_positives: 172.0000 - true_negatives: 236.0000 - false_positives: 19.0000 - false_negatives: 28.0000 - val_loss: 0.0260 - val_true_positives: 31.0000 - val_true_negatives: 31.0000 - val_false_positives: 1.0000 - val_false_negatives: 1.0000\n",
            "Epoch 7/10\n",
            "15/15 - 38s - loss: 0.0718 - true_positives: 177.0000 - true_negatives: 235.0000 - false_positives: 20.0000 - false_negatives: 23.0000 - val_loss: 0.0261 - val_true_positives: 31.0000 - val_true_negatives: 31.0000 - val_false_positives: 1.0000 - val_false_negatives: 1.0000\n",
            "Epoch 8/10\n",
            "15/15 - 38s - loss: 0.0760 - true_positives: 173.0000 - true_negatives: 237.0000 - false_positives: 18.0000 - false_negatives: 27.0000 - val_loss: 0.0275 - val_true_positives: 31.0000 - val_true_negatives: 31.0000 - val_false_positives: 1.0000 - val_false_negatives: 1.0000\n",
            "Epoch 9/10\n",
            "15/15 - 38s - loss: 0.0677 - true_positives: 179.0000 - true_negatives: 234.0000 - false_positives: 21.0000 - false_negatives: 21.0000 - val_loss: 0.0297 - val_true_positives: 31.0000 - val_true_negatives: 31.0000 - val_false_positives: 1.0000 - val_false_negatives: 1.0000\n",
            "Epoch 10/10\n",
            "15/15 - 38s - loss: 0.0694 - true_positives: 175.0000 - true_negatives: 242.0000 - false_positives: 13.0000 - false_negatives: 25.0000 - val_loss: 0.0355 - val_true_positives: 32.0000 - val_true_negatives: 31.0000 - val_false_positives: 1.0000 - val_false_negatives: 0.0000e+00\n"
          ],
          "name": "stdout"
        }
      ]
    },
    {
      "cell_type": "code",
      "metadata": {
        "colab": {
          "base_uri": "https://localhost:8080/"
        },
        "id": "WLYS_HKtbLhV",
        "outputId": "6dadb7e8-550f-4f96-c55b-483abcfbfee9"
      },
      "source": [
        "### Performance evaluation of Confusion Matrix\n",
        "#########################\n",
        "score = classifier.evaluate(test_set)"
      ],
      "execution_count": 21,
      "outputs": [
        {
          "output_type": "stream",
          "text": [
            "2/2 [==============================] - 2s 634ms/step - loss: 0.0355 - true_positives: 32.0000 - true_negatives: 31.0000 - false_positives: 1.0000 - false_negatives: 0.0000e+00\n"
          ],
          "name": "stdout"
        }
      ]
    },
    {
      "cell_type": "code",
      "metadata": {
        "colab": {
          "base_uri": "https://localhost:8080/",
          "height": 315
        },
        "id": "bZHobSLKoFtA",
        "outputId": "cdbb2a9b-da28-416d-a276-46b975c5f674"
      },
      "source": [
        "import seaborn as sn\n",
        "import pandas as pd\n",
        "import matplotlib.pyplot as plt\n",
        "\n",
        "array = [[31,1],\n",
        "         [0,32]]\n",
        "\n",
        "df_cm = pd.DataFrame(array, range(2), range(2))\n",
        "\n",
        "sn.set(font_scale=1.4) # for label size\n",
        "sn.heatmap(df_cm, annot=True, annot_kws={\"size\": 12}) # font size\n",
        "pyplot.title('Confusion Matrix')\n",
        "pyplot.ylabel('Actual Class')\n",
        "pyplot.xlabel('Predicted Class')\n",
        "pyplot.savefig('/content/drive/My Drive/dataset/ConfusionMatrixAveragePooling.png')\n",
        "pyplot.show()"
      ],
      "execution_count": 22,
      "outputs": [
        {
          "output_type": "display_data",
          "data": {
            "image/png": "[encoded data removed]",
            "text/plain": [
              "<Figure size 432x288 with 2 Axes>"
            ]
          },
          "metadata": {
            "tags": []
          }
        }
      ]
    },
    {
      "cell_type": "code",
      "metadata": {
        "colab": {
          "base_uri": "https://localhost:8080/"
        },
        "id": "M574CurTvX4G",
        "outputId": "f741b5e8-64f6-4a8f-bb38-048cc24bc6c8"
      },
      "source": [
        "classifier.summary()"
      ],
      "execution_count": 23,
      "outputs": [
        {
          "output_type": "stream",
          "text": [
            "Model: \"sequential\"\n",
            "_________________________________________________________________\n",
            "Layer (type)                 Output Shape              Param #   \n",
            "=================================================================\n",
            "conv2d (Conv2D)              (None, 254, 254, 32)      896       \n",
            "_________________________________________________________________\n",
            "average_pooling2d (AveragePo (None, 127, 127, 32)      0         \n",
            "_________________________________________________________________\n",
            "conv2d_1 (Conv2D)            (None, 125, 125, 32)      9248      \n",
            "_________________________________________________________________\n",
            "average_pooling2d_1 (Average (None, 62, 62, 32)        0         \n",
            "_________________________________________________________________\n",
            "flatten (Flatten)            (None, 123008)            0         \n",
            "_________________________________________________________________\n",
            "dense (Dense)                (None, 128)               15745152  \n",
            "_________________________________________________________________\n",
            "dense_1 (Dense)              (None, 1)                 129       \n",
            "=================================================================\n",
            "Total params: 15,755,425\n",
            "Trainable params: 15,755,425\n",
            "Non-trainable params: 0\n",
            "_________________________________________________________________\n"
          ],
          "name": "stdout"
        }
      ]
    },
    {
      "cell_type": "code",
      "metadata": {
        "colab": {
          "base_uri": "https://localhost:8080/",
          "height": 758
        },
        "id": "JViHC_KDyKA-",
        "outputId": "c62ddc85-d0b4-4e95-f3f4-9541d5e2a3c3"
      },
      "source": [
        "from keras.utils.vis_utils import plot_model as plot\n",
        "plot(classifier, to_file='/content/drive/My Drive/dataset/CNNAveragePooling.png')"
      ],
      "execution_count": 24,
      "outputs": [
        {
          "output_type": "execute_result",
          "data": {
            "image/png": "[encoded data removed]",
            "text/plain": [
              "<IPython.core.display.Image object>"
            ]
          },
          "metadata": {
            "tags": []
          },
          "execution_count": 24
        }
      ]
    }
  ]
}